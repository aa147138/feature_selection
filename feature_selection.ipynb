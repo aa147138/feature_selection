{
 "cells": [
  {
   "cell_type": "markdown",
   "metadata": {},
   "source": [
    "# 1 去掉取值变化小的特征 (Removing features with low variance)"
   ]
  },
  {
   "cell_type": "code",
   "execution_count": 1,
   "metadata": {
    "collapsed": false
   },
   "outputs": [
    {
     "data": {
      "text/plain": [
       "array([[0, 1],\n",
       "       [1, 0],\n",
       "       [0, 0],\n",
       "       [1, 1],\n",
       "       [1, 0],\n",
       "       [1, 1]])"
      ]
     },
     "execution_count": 1,
     "metadata": {},
     "output_type": "execute_result"
    }
   ],
   "source": [
    "from sklearn.feature_selection import VarianceThreshold\n",
    "X = [[0, 0, 1], [0, 1, 0], [1, 0, 0], [0, 1, 1], [0, 1, 0], [0, 1, 1]]\n",
    "sel = VarianceThreshold(threshold=(.8 * (1 - .8)))\n",
    "sel.fit_transform(X)"
   ]
  },
  {
   "cell_type": "markdown",
   "metadata": {},
   "source": [
    "# 2 单变量特征选择 (Univariate feature selection)\n",
    "## 2.1 Pearson相关系数"
   ]
  },
  {
   "cell_type": "code",
   "execution_count": 2,
   "metadata": {
    "collapsed": false
   },
   "outputs": [
    {
     "name": "stdout",
     "output_type": "stream",
     "text": [
      "Lower noise (0.71824836862138408, 7.3240173129983507e-49)\n",
      "Higher noise (0.057964292079338155, 0.31700993885324752)\n"
     ]
    }
   ],
   "source": [
    "import numpy as np\n",
    "from scipy.stats import pearsonr\n",
    "np.random.seed(0)\n",
    "size = 300\n",
    "x = np.random.normal(0, 1, size)\n",
    "print( \"Lower noise\", pearsonr(x, x + np.random.normal(0, 1, size)))\n",
    "print( \"Higher noise\", pearsonr(x, x + np.random.normal(0, 10, size)))"
   ]
  },
  {
   "cell_type": "code",
   "execution_count": 3,
   "metadata": {
    "collapsed": false
   },
   "outputs": [
    {
     "name": "stdout",
     "output_type": "stream",
     "text": [
      "-0.00230804707612\n"
     ]
    }
   ],
   "source": [
    "x1 = np.random.uniform(-1, 1, 100000)  \n",
    "print( pearsonr(x1, x1**2)[0]) "
   ]
  },
  {
   "cell_type": "markdown",
   "metadata": {},
   "source": [
    "## 2.2 互信息和最大信息系数"
   ]
  },
  {
   "cell_type": "code",
   "execution_count": 4,
   "metadata": {
    "collapsed": false
   },
   "outputs": [
    {
     "name": "stdout",
     "output_type": "stream",
     "text": [
      "1.0000000000000009\n"
     ]
    }
   ],
   "source": [
    "from minepy import MINE  \n",
    "m = MINE()  \n",
    "x = np.random.uniform(-1, 1, 10000)  \n",
    "m.compute_score(x, x**2)  \n",
    "print( m.mic()) "
   ]
  },
  {
   "cell_type": "markdown",
   "metadata": {},
   "source": [
    "##  2.4 基于学习模型的特征排序 (Model based ranking)"
   ]
  },
  {
   "cell_type": "code",
   "execution_count": 5,
   "metadata": {
    "collapsed": false
   },
   "outputs": [
    {
     "name": "stderr",
     "output_type": "stream",
     "text": [
      "D:\\Program Files\\Anaconda3\\lib\\site-packages\\sklearn\\cross_validation.py:41: DeprecationWarning: This module was deprecated in version 0.18 in favor of the model_selection module into which all the refactored classes and functions are moved. Also note that the interface of the new CV iterators are different from that of this module. This module will be removed in 0.20.\n",
      "  \"This module will be removed in 0.20.\", DeprecationWarning)\n"
     ]
    },
    {
     "data": {
      "text/plain": [
       "[(0.60999999999999999, 'LSTAT'),\n",
       " (0.44800000000000001, 'RM'),\n",
       " (0.35599999999999998, 'NOX'),\n",
       " (0.309, 'INDUS'),\n",
       " (0.28899999999999998, 'PTRATIO'),\n",
       " (0.23999999999999999, 'TAX'),\n",
       " (0.23100000000000001, 'ZN'),\n",
       " (0.19900000000000001, 'CRIM'),\n",
       " (0.19, 'RAD'),\n",
       " (0.11600000000000001, 'B'),\n",
       " (0.091999999999999998, 'AGE'),\n",
       " (0.048000000000000001, 'DIS'),\n",
       " (0.010999999999999999, 'CHAS')]"
      ]
     },
     "execution_count": 5,
     "metadata": {},
     "output_type": "execute_result"
    }
   ],
   "source": [
    "from sklearn.cross_validation import cross_val_score, ShuffleSplit  \n",
    "from sklearn.datasets import load_boston  \n",
    "from sklearn.ensemble import RandomForestRegressor  \n",
    "  \n",
    "#Load boston housing dataset as an example  \n",
    "boston = load_boston()  \n",
    "X = boston[\"data\"]  \n",
    "Y = boston[\"target\"]  \n",
    "names = boston[\"feature_names\"]  \n",
    "  \n",
    "rf = RandomForestRegressor(n_estimators=20, max_depth=4)  \n",
    "scores = []  \n",
    "for i in range(X.shape[1]):  \n",
    "    score = cross_val_score(rf, X[:, i:i+1], Y, scoring=\"r2\",cv=ShuffleSplit(len(X), 3, .3))  \n",
    "    scores.append((round(np.mean(score), 3), names[i]))  \n",
    "#print (sorted(scores, reverse=True) ) \n",
    "sorted(scores, reverse=True)"
   ]
  },
  {
   "cell_type": "markdown",
   "metadata": {},
   "source": [
    "# 3 线性模型和正则化"
   ]
  },
  {
   "cell_type": "markdown",
   "metadata": {},
   "source": [
    "## 3.1 线性模型"
   ]
  },
  {
   "cell_type": "code",
   "execution_count": 6,
   "metadata": {
    "collapsed": false
   },
   "outputs": [
    {
     "name": "stdout",
     "output_type": "stream",
     "text": [
      "Linear model: 0.984 * X0 + 1.995 * X1 + -0.041 * X2\n"
     ]
    }
   ],
   "source": [
    "from sklearn.linear_model import LinearRegression  \n",
    "import numpy as np  \n",
    "  \n",
    "np.random.seed(0)  \n",
    "size = 5000  \n",
    "  \n",
    "#A dataset with 3 features  \n",
    "X = np.random.normal(0, 1, (size, 3))  \n",
    "#Y = X0 + 2*X1 + noise  \n",
    "Y = X[:,0] + 2*X[:,1] + np.random.normal(0, 2, size)  \n",
    "lr = LinearRegression()  \n",
    "lr.fit(X, Y)  \n",
    "  \n",
    "#A helper method for pretty-printing linear models  \n",
    "def pretty_print_linear(coefs, names = None, sort = False):  \n",
    "    if names == None:  \n",
    "        names = [\"X%s\" % x for x in range(len(coefs))]  \n",
    "    lst = zip(coefs, names)  \n",
    "    if sort:  \n",
    "        lst = sorted(lst,  key = lambda x:-np.abs(x[0]))  \n",
    "    return \" + \".join(\"%s * %s\" % (round(coef, 3), name)  \n",
    "                                   for coef, name in lst)  \n",
    "  \n",
    "print (\"Linear model:\", pretty_print_linear(lr.coef_))  "
   ]
  },
  {
   "cell_type": "code",
   "execution_count": 7,
   "metadata": {
    "collapsed": false
   },
   "outputs": [
    {
     "name": "stdout",
     "output_type": "stream",
     "text": [
      "Linear model: -1.291 * X0 + 1.591 * X1 + 2.747 * X2\n"
     ]
    }
   ],
   "source": [
    "size = 100  \n",
    "np.random.seed(seed=5)  \n",
    "  \n",
    "X_seed = np.random.normal(0, 1, size)  \n",
    "X1 = X_seed + np.random.normal(0, .1, size)  \n",
    "X2 = X_seed + np.random.normal(0, .1, size)  \n",
    "X3 = X_seed + np.random.normal(0, .1, size)  \n",
    "  \n",
    "Y = X1 + X2 + X3 + np.random.normal(0,1, size)  \n",
    "X = np.array([X1, X2, X3]).T  \n",
    "  \n",
    "lr = LinearRegression()  \n",
    "lr.fit(X,Y)  \n",
    "print (\"Linear model:\", pretty_print_linear(lr.coef_))"
   ]
  },
  {
   "cell_type": "markdown",
   "metadata": {},
   "source": [
    "## 3.2 正则化\n",
    "### 3.2.1 L1正则化/Lasso"
   ]
  },
  {
   "cell_type": "code",
   "execution_count": 8,
   "metadata": {
    "collapsed": false
   },
   "outputs": [
    {
     "name": "stdout",
     "output_type": "stream",
     "text": [
      "Lasso model:  -3.707 * LSTAT + 2.992 * RM + -1.757 * PTRATIO + -1.081 * DIS + -0.7 * NOX + 0.631 * B + 0.54 * CHAS + -0.236 * CRIM + 0.081 * ZN + -0.0 * INDUS + -0.0 * AGE + 0.0 * RAD + -0.0 * TAX\n"
     ]
    }
   ],
   "source": [
    "from sklearn.linear_model import Lasso  \n",
    "from sklearn.preprocessing import StandardScaler  \n",
    "from sklearn.datasets import load_boston  \n",
    "  \n",
    "boston = load_boston()  \n",
    "scaler = StandardScaler()  \n",
    "X = scaler.fit_transform(boston[\"data\"])  \n",
    "Y = boston[\"target\"]  \n",
    "names = boston[\"feature_names\"]  \n",
    "  \n",
    "lasso = Lasso(alpha=.3)  \n",
    "lasso.fit(X, Y)  \n",
    "  \n",
    "print(\"Lasso model: \", pretty_print_linear(lasso.coef_, list(names), sort = True))  \n"
   ]
  },
  {
   "cell_type": "markdown",
   "metadata": {},
   "source": [
    "### 3.2.2 L2正则化/Ridge regression"
   ]
  },
  {
   "cell_type": "code",
   "execution_count": 9,
   "metadata": {
    "collapsed": false
   },
   "outputs": [
    {
     "name": "stdout",
     "output_type": "stream",
     "text": [
      "Random seed 0\n",
      "Linear model: 0.728 * X0 + 2.309 * X1 + -0.082 * X2\n",
      "Ridge model: 0.938 * X0 + 1.059 * X1 + 0.877 * X2\n",
      "Random seed 1\n",
      "Linear model: 1.152 * X0 + 2.366 * X1 + -0.599 * X2\n",
      "Ridge model: 0.984 * X0 + 1.068 * X1 + 0.759 * X2\n",
      "Random seed 2\n",
      "Linear model: 0.697 * X0 + 0.322 * X1 + 2.086 * X2\n",
      "Ridge model: 0.972 * X0 + 0.943 * X1 + 1.085 * X2\n",
      "Random seed 3\n",
      "Linear model: 0.287 * X0 + 1.254 * X1 + 1.491 * X2\n",
      "Ridge model: 0.919 * X0 + 1.005 * X1 + 1.033 * X2\n",
      "Random seed 4\n",
      "Linear model: 0.187 * X0 + 0.772 * X1 + 2.189 * X2\n",
      "Ridge model: 0.964 * X0 + 0.982 * X1 + 1.098 * X2\n",
      "Random seed 5\n",
      "Linear model: -1.291 * X0 + 1.591 * X1 + 2.747 * X2\n",
      "Ridge model: 0.758 * X0 + 1.011 * X1 + 1.139 * X2\n",
      "Random seed 6\n",
      "Linear model: 1.199 * X0 + -0.031 * X1 + 1.915 * X2\n",
      "Ridge model: 1.016 * X0 + 0.89 * X1 + 1.091 * X2\n",
      "Random seed 7\n",
      "Linear model: 1.474 * X0 + 1.762 * X1 + -0.151 * X2\n",
      "Ridge model: 1.018 * X0 + 1.039 * X1 + 0.901 * X2\n",
      "Random seed 8\n",
      "Linear model: 0.084 * X0 + 1.88 * X1 + 1.107 * X2\n",
      "Ridge model: 0.907 * X0 + 1.071 * X1 + 1.008 * X2\n",
      "Random seed 9\n",
      "Linear model: 0.714 * X0 + 0.776 * X1 + 1.364 * X2\n",
      "Ridge model: 0.896 * X0 + 0.903 * X1 + 0.98 * X2\n"
     ]
    }
   ],
   "source": [
    "from sklearn.linear_model import Ridge  \n",
    "from sklearn.metrics import r2_score  \n",
    "size = 100  \n",
    "  \n",
    "#We run the method 10 times with different random seeds  \n",
    "for i in range(10):  \n",
    "    print(\"Random seed %s\" % i)  \n",
    "    np.random.seed(seed=i)  \n",
    "    X_seed = np.random.normal(0, 1, size)  \n",
    "    X1 = X_seed + np.random.normal(0, .1, size)  \n",
    "    X2 = X_seed + np.random.normal(0, .1, size)  \n",
    "    X3 = X_seed + np.random.normal(0, .1, size)  \n",
    "    Y = X1 + X2 + X3 + np.random.normal(0, 1, size)  \n",
    "    X = np.array([X1, X2, X3]).T  \n",
    "  \n",
    "  \n",
    "    lr = LinearRegression()  \n",
    "    lr.fit(X,Y)  \n",
    "    print (\"Linear model:\", pretty_print_linear(lr.coef_))\n",
    "  \n",
    "    ridge = Ridge(alpha=10)  \n",
    "    ridge.fit(X,Y)  \n",
    "    print(\"Ridge model:\", pretty_print_linear(ridge.coef_)) "
   ]
  },
  {
   "cell_type": "markdown",
   "metadata": {},
   "source": [
    "### 3.2.3 弹性网络/Elastic Net "
   ]
  },
  {
   "cell_type": "code",
   "execution_count": 10,
   "metadata": {
    "collapsed": false
   },
   "outputs": [
    {
     "name": "stdout",
     "output_type": "stream",
     "text": [
      "Lasso(alpha=0.1, copy_X=True, fit_intercept=True, max_iter=1000,\n",
      "   normalize=False, positive=False, precompute=False, random_state=None,\n",
      "   selection='cyclic', tol=0.0001, warm_start=False)\n",
      "r^2 on test data : 0.385982\n",
      "ElasticNet(alpha=0.1, copy_X=True, fit_intercept=True, l1_ratio=0.7,\n",
      "      max_iter=1000, normalize=False, positive=False, precompute=False,\n",
      "      random_state=None, selection='cyclic', tol=0.0001, warm_start=False)\n",
      "r^2 on test data : 0.240498\n"
     ]
    },
    {
     "data": {
      "image/png": "[encoded data removed]",
      "text/plain": [
       "<matplotlib.figure.Figure at 0xa2afe10>"
      ]
     },
     "metadata": {},
     "output_type": "display_data"
    }
   ],
   "source": [
    "import numpy as np\n",
    "import matplotlib.pyplot as plt\n",
    "\n",
    "from sklearn.metrics import r2_score\n",
    "\n",
    "# #############################################################################\n",
    "# Generate some sparse data to play with\n",
    "np.random.seed(42)\n",
    "\n",
    "n_samples, n_features = 50, 200\n",
    "X = np.random.randn(n_samples, n_features)\n",
    "coef = 3 * np.random.randn(n_features)\n",
    "inds = np.arange(n_features)\n",
    "np.random.shuffle(inds)\n",
    "coef[inds[10:]] = 0  # sparsify coef\n",
    "y = np.dot(X, coef)\n",
    "\n",
    "# add noise\n",
    "y += 0.01 * np.random.normal(size=n_samples)\n",
    "\n",
    "# Split data in train set and test set\n",
    "n_samples = X.shape[0]\n",
    "X_train, y_train = X[:n_samples // 2], y[:n_samples // 2]\n",
    "X_test, y_test = X[n_samples // 2:], y[n_samples // 2:]\n",
    "\n",
    "# #############################################################################\n",
    "# Lasso\n",
    "from sklearn.linear_model import Lasso\n",
    "\n",
    "alpha = 0.1\n",
    "lasso = Lasso(alpha=alpha)\n",
    "\n",
    "y_pred_lasso = lasso.fit(X_train, y_train).predict(X_test)\n",
    "r2_score_lasso = r2_score(y_test, y_pred_lasso)\n",
    "print(lasso)\n",
    "print(\"r^2 on test data : %f\" % r2_score_lasso)\n",
    "\n",
    "# #############################################################################\n",
    "# ElasticNet\n",
    "from sklearn.linear_model import ElasticNet\n",
    "\n",
    "enet = ElasticNet(alpha=alpha, l1_ratio=0.7)\n",
    "\n",
    "y_pred_enet = enet.fit(X_train, y_train).predict(X_test)\n",
    "r2_score_enet = r2_score(y_test, y_pred_enet)\n",
    "print(enet)\n",
    "print(\"r^2 on test data : %f\" % r2_score_enet)\n",
    "\n",
    "plt.plot(enet.coef_, color='lightgreen', linewidth=2,\n",
    "         label='Elastic net coefficients')\n",
    "plt.plot(lasso.coef_, color='gold', linewidth=2,\n",
    "         label='Lasso coefficients')\n",
    "plt.plot(coef, '--', color='navy', label='original coefficients')\n",
    "plt.legend(loc='best')\n",
    "plt.title(\"Lasso R^2: %f, Elastic Net R^2: %f\"\n",
    "          % (r2_score_lasso, r2_score_enet))\n",
    "plt.show()"
   ]
  },
  {
   "cell_type": "markdown",
   "metadata": {},
   "source": [
    "# 4 随机森林\n",
    "## 4.1平均不纯度减少 mean decrease impurity"
   ]
  },
  {
   "cell_type": "code",
   "execution_count": 11,
   "metadata": {
    "collapsed": false
   },
   "outputs": [
    {
     "name": "stdout",
     "output_type": "stream",
     "text": [
      "Features sorted by their score:\n",
      "[(0.41760000000000003, 'RM'), (0.38159999999999999, 'LSTAT'), (0.058500000000000003, 'DIS'), (0.043900000000000002, 'CRIM'), (0.028899999999999999, 'NOX'), (0.0155, 'TAX'), (0.0137, 'B'), (0.0137, 'AGE'), (0.013299999999999999, 'PTRATIO'), (0.0074000000000000003, 'INDUS'), (0.0038, 'RAD'), (0.0011000000000000001, 'ZN'), (0.001, 'CHAS')]\n"
     ]
    }
   ],
   "source": [
    "from sklearn.datasets import load_boston  \n",
    "from sklearn.ensemble import RandomForestRegressor  \n",
    "import numpy as np  \n",
    "#Load boston housing dataset as an example  \n",
    "boston = load_boston()  \n",
    "X = boston[\"data\"]  \n",
    "Y = boston[\"target\"]  \n",
    "names = boston[\"feature_names\"]  \n",
    "rf = RandomForestRegressor()  \n",
    "rf.fit(X, Y)  \n",
    "print (\"Features sorted by their score:\")  \n",
    "print (sorted(zip(map(lambda x: round(x, 4), rf.feature_importances_), names),reverse=True))  "
   ]
  },
  {
   "cell_type": "code",
   "execution_count": 12,
   "metadata": {
    "collapsed": false
   },
   "outputs": [
    {
     "name": "stdout",
     "output_type": "stream",
     "text": [
      "Scores for X0, X1, X2: [0.27200000000000002, 0.54800000000000004, 0.17899999999999999]\n"
     ]
    }
   ],
   "source": [
    "size = 10000  \n",
    "np.random.seed(seed=10)  \n",
    "X_seed = np.random.normal(0, 1, size)  \n",
    "X0 = X_seed + np.random.normal(0, .1, size)  \n",
    "X1 = X_seed + np.random.normal(0, .1, size)  \n",
    "X2 = X_seed + np.random.normal(0, .1, size)  \n",
    "X = np.array([X0, X1, X2]).T  \n",
    "Y = X0 + X1 + X2  \n",
    "  \n",
    "rf = RandomForestRegressor(n_estimators=20, max_features=2)  \n",
    "rf.fit(X, Y)\n",
    "print (\"Scores for X0, X1, X2:\", list(map(lambda x:round (x,3), rf.feature_importances_)) )  \n"
   ]
  },
  {
   "cell_type": "markdown",
   "metadata": {},
   "source": [
    "## 4.2 平均精确率减少(Mean decrease accuracy)"
   ]
  },
  {
   "cell_type": "code",
   "execution_count": 13,
   "metadata": {
    "collapsed": false
   },
   "outputs": [
    {
     "name": "stdout",
     "output_type": "stream",
     "text": [
      "Features sorted by their score:\n",
      "[(0.73109999999999997, 'LSTAT'), (0.57089999999999996, 'RM'), (0.087999999999999995, 'DIS'), (0.0385, 'NOX'), (0.036600000000000001, 'CRIM'), (0.023400000000000001, 'PTRATIO'), (0.017100000000000001, 'TAX'), (0.0129, 'AGE'), (0.0047000000000000002, 'B'), (0.0044999999999999997, 'INDUS'), (0.0035000000000000001, 'RAD'), (0.0001, 'ZN'), (-0.0001, 'CHAS')]\n"
     ]
    }
   ],
   "source": [
    "from sklearn.cross_validation import ShuffleSplit  \n",
    "from sklearn.metrics import r2_score  \n",
    "from collections import defaultdict  \n",
    "  \n",
    "X = boston[\"data\"]  \n",
    "Y = boston[\"target\"]  \n",
    "  \n",
    "rf = RandomForestRegressor()  \n",
    "scores = defaultdict(list)  \n",
    "  \n",
    "#crossvalidate the scores on a number of different random splits of the data  \n",
    "for train_idx, test_idx in ShuffleSplit(len(X), 100, .3):  \n",
    "    X_train, X_test = X[train_idx], X[test_idx]  \n",
    "    Y_train, Y_test = Y[train_idx], Y[test_idx]  \n",
    "    r = rf.fit(X_train, Y_train)  \n",
    "    acc = r2_score(Y_test, rf.predict(X_test))  \n",
    "    for i in range(X.shape[1]):  \n",
    "        X_t = X_test.copy()  \n",
    "        np.random.shuffle(X_t[:, i])  \n",
    "        shuff_acc = r2_score(Y_test, rf.predict(X_t))  \n",
    "        scores[names[i]].append((acc-shuff_acc)/acc)  \n",
    "print (\"Features sorted by their score:\")  \n",
    "print (sorted([(round(np.mean(score), 4), feat) for feat, score in scores.items()], reverse=True))  "
   ]
  },
  {
   "cell_type": "markdown",
   "metadata": {},
   "source": [
    "# 5 两种顶层特征选择算法\n",
    "## 5.1 稳定性选择(Stability selection)"
   ]
  },
  {
   "cell_type": "code",
   "execution_count": 14,
   "metadata": {
    "collapsed": false
   },
   "outputs": [
    {
     "name": "stderr",
     "output_type": "stream",
     "text": [
      "D:\\Program Files\\Anaconda3\\lib\\site-packages\\sklearn\\utils\\deprecation.py:57: DeprecationWarning: Class RandomizedLasso is deprecated; The class RandomizedLasso is deprecated in 0.19 and will be removed in 0.21.\n",
      "  warnings.warn(msg, category=DeprecationWarning)\n"
     ]
    },
    {
     "name": "stdout",
     "output_type": "stream",
     "text": [
      "Features sorted by their score:\n",
      "[(1.0, 'RM'), (1.0, 'PTRATIO'), (1.0, 'LSTAT'), (0.64500000000000002, 'CHAS'), (0.57499999999999996, 'B'), (0.40000000000000002, 'TAX'), (0.39500000000000002, 'CRIM'), (0.245, 'NOX'), (0.185, 'DIS'), (0.16500000000000001, 'INDUS'), (0.055, 'ZN'), (0.029999999999999999, 'RAD'), (0.01, 'AGE')]\n"
     ]
    }
   ],
   "source": [
    "from sklearn.linear_model import RandomizedLasso  \n",
    "from sklearn.datasets import load_boston  \n",
    "boston = load_boston()  \n",
    "  \n",
    "#using the Boston housing data.   \n",
    "#Data gets scaled automatically by sklearn's implementation  \n",
    "X = boston[\"data\"]  \n",
    "Y = boston[\"target\"]  \n",
    "names = boston[\"feature_names\"]  \n",
    "  \n",
    "rlasso = RandomizedLasso(alpha=0.025)  \n",
    "rlasso.fit(X, Y)  \n",
    "  \n",
    "print (\"Features sorted by their score:\")  \n",
    "print (sorted(zip(map(lambda x: round(x, 4), rlasso.scores_),names), reverse=True))  "
   ]
  },
  {
   "cell_type": "markdown",
   "metadata": {},
   "source": [
    "## 5.2 递归特征消除 (Recursive feature elimination (RFE) )"
   ]
  },
  {
   "cell_type": "code",
   "execution_count": 15,
   "metadata": {
    "collapsed": false
   },
   "outputs": [
    {
     "name": "stdout",
     "output_type": "stream",
     "text": [
      "Features sorted by their rank:\n",
      "[(1, 'NOX'), (2, 'RM'), (3, 'CHAS'), (4, 'PTRATIO'), (5, 'DIS'), (6, 'LSTAT'), (7, 'RAD'), (8, 'CRIM'), (9, 'INDUS'), (10, 'ZN'), (11, 'TAX'), (12, 'B'), (13, 'AGE')]\n"
     ]
    }
   ],
   "source": [
    "from sklearn.feature_selection import RFE  \n",
    "from sklearn.linear_model import LinearRegression  \n",
    "  \n",
    "boston = load_boston()  \n",
    "X = boston[\"data\"]  \n",
    "Y = boston[\"target\"]  \n",
    "names = boston[\"feature_names\"]  \n",
    "  \n",
    "#use linear regression as the model  \n",
    "lr = LinearRegression()  \n",
    "#rank all features, i.e continue the elimination until the last one  \n",
    "rfe = RFE(lr, n_features_to_select=1)  \n",
    "rfe.fit(X,Y)  \n",
    "  \n",
    "print (\"Features sorted by their rank:\")  \n",
    "print (sorted(zip(map(lambda x: round(x, 4), rfe.ranking_), names)))  "
   ]
  },
  {
   "cell_type": "markdown",
   "metadata": {},
   "source": [
    "# 一个完整的例子"
   ]
  },
  {
   "cell_type": "code",
   "execution_count": 16,
   "metadata": {
    "collapsed": false
   },
   "outputs": [
    {
     "name": "stderr",
     "output_type": "stream",
     "text": [
      "D:\\Program Files\\Anaconda3\\lib\\site-packages\\sklearn\\utils\\deprecation.py:57: DeprecationWarning: Class RandomizedLasso is deprecated; The class RandomizedLasso is deprecated in 0.19 and will be removed in 0.21.\n",
      "  warnings.warn(msg, category=DeprecationWarning)\n"
     ]
    },
    {
     "name": "stdout",
     "output_type": "stream",
     "text": [
      "\tCorr.\tLasso\tLr reg\tMIC\tRF\tRFE\tRidge\tStab\tMean\n",
      "x1\t0.3\t0.79\t1.0\t0.39\t0.55\t1.0\t0.77\t0.77\t0.7\n",
      "x2\t0.44\t0.83\t0.56\t0.61\t0.67\t1.0\t0.75\t0.72\t0.7\n",
      "x3\t0.0\t0.0\t0.5\t0.34\t0.13\t1.0\t0.05\t0.0\t0.25\n",
      "x4\t1.0\t1.0\t0.57\t1.0\t0.56\t1.0\t1.0\t1.0\t0.89\n",
      "x5\t0.1\t0.51\t0.27\t0.2\t0.29\t0.78\t0.88\t0.55\t0.45\n",
      "x6\t0.0\t0.0\t0.02\t0.0\t0.01\t0.44\t0.05\t0.0\t0.06\n",
      "x7\t0.01\t0.0\t0.0\t0.07\t0.02\t0.0\t0.01\t0.0\t0.01\n",
      "x8\t0.02\t0.0\t0.03\t0.05\t0.01\t0.56\t0.09\t0.0\t0.1\n",
      "x9\t0.01\t0.0\t0.0\t0.09\t0.01\t0.11\t0.0\t0.0\t0.03\n",
      "x10\t0.0\t0.0\t0.01\t0.04\t0.0\t0.33\t0.01\t0.0\t0.05\n",
      "x11\t0.29\t0.0\t0.6\t0.43\t0.39\t1.0\t0.59\t0.37\t0.46\n",
      "x12\t0.44\t0.0\t0.14\t0.71\t0.35\t0.67\t0.68\t0.46\t0.43\n",
      "x13\t0.0\t0.0\t0.48\t0.23\t0.07\t0.89\t0.02\t0.0\t0.21\n",
      "x14\t0.99\t0.16\t0.0\t1.0\t1.0\t0.22\t0.95\t0.62\t0.62\n"
     ]
    }
   ],
   "source": [
    "from sklearn.datasets import load_boston  \n",
    "from sklearn.linear_model import (LinearRegression, Ridge,Lasso, RandomizedLasso)  \n",
    "from sklearn.feature_selection import RFE, f_regression  \n",
    "from sklearn.preprocessing import MinMaxScaler  \n",
    "from sklearn.ensemble import RandomForestRegressor  \n",
    "import numpy as np  \n",
    "from minepy import MINE  \n",
    "  \n",
    "np.random.seed(0)  \n",
    "  \n",
    "size = 750  \n",
    "X = np.random.uniform(0, 1, (size, 14))  \n",
    "  \n",
    "#\"Friedamn #1” regression problem  \n",
    "Y = (10 * np.sin(np.pi*X[:,0]*X[:,1]) + 20*(X[:,2] - .5)**2 +  \n",
    "     10*X[:,3] + 5*X[:,4] + np.random.normal(0,1))  \n",
    "#Add 3 additional correlated variables (correlated with X1-X3)  \n",
    "X[:,10:] = X[:,:4] + np.random.normal(0, .025, (size,4))  \n",
    "  \n",
    "names = [\"x%s\" % i for i in range(1,15)]  \n",
    "  \n",
    "ranks = {}  \n",
    "  \n",
    "def rank_to_dict(ranks, names, order=1):  \n",
    "    minmax = MinMaxScaler()  \n",
    "    ranks = minmax.fit_transform(order*np.array([ranks]).T).T[0]  \n",
    "    ranks = map(lambda x: round(x, 2), ranks)  \n",
    "    return dict(zip(names, ranks ))  \n",
    "  \n",
    "lr = LinearRegression(normalize=True)  \n",
    "lr.fit(X, Y)  \n",
    "ranks[\"Lr reg\"] = rank_to_dict(np.abs(lr.coef_), names)  \n",
    "  \n",
    "ridge = Ridge(alpha=7)  \n",
    "ridge.fit(X, Y)  \n",
    "ranks[\"Ridge\"] = rank_to_dict(np.abs(ridge.coef_), names)  \n",
    "   \n",
    "lasso = Lasso(alpha=.05)  \n",
    "lasso.fit(X, Y)  \n",
    "ranks[\"Lasso\"] = rank_to_dict(np.abs(lasso.coef_), names)  \n",
    "    \n",
    "rlasso = RandomizedLasso(alpha=0.04)  \n",
    "rlasso.fit(X, Y)  \n",
    "ranks[\"Stab\"] = rank_to_dict(np.abs(rlasso.scores_), names)  \n",
    "  \n",
    "#stop the search when 5 features are left (they will get equal scores)  \n",
    "rfe = RFE(lr, n_features_to_select=5)  \n",
    "rfe.fit(X,Y)  \n",
    "ranks[\"RFE\"] = rank_to_dict(list(map(float, rfe.ranking_)), names, order=-1)  \n",
    "  \n",
    "rf = RandomForestRegressor()  \n",
    "rf.fit(X,Y)  \n",
    "ranks[\"RF\"] = rank_to_dict(rf.feature_importances_, names)    \n",
    "  \n",
    "f, pval  = f_regression(X, Y, center=True)  \n",
    "ranks[\"Corr.\"] = rank_to_dict(f, names)  \n",
    "  \n",
    "mine = MINE()  \n",
    "mic_scores = []  \n",
    "for i in range(X.shape[1]):  \n",
    "    mine.compute_score(X[:,i], Y)  \n",
    "    m = mine.mic()  \n",
    "    mic_scores.append(m)    \n",
    "ranks[\"MIC\"] = rank_to_dict(mic_scores, names)    \n",
    "  \n",
    "r = {}  \n",
    "for name in names:  \n",
    "    r[name] = round(np.mean([ranks[method][name] for method in ranks.keys()]), 2)    \n",
    "methods = sorted(ranks.keys())  \n",
    "ranks[\"Mean\"] = r  \n",
    "methods.append(\"Mean\")  \n",
    "  \n",
    "# ranks = pd.DataFrame(ranks)\n",
    "print(\"\\t%s\" % \"\\t\".join(methods))  \n",
    "for name in names:  \n",
    "    print(\"%s\\t%s\" % (name, \"\\t\".join(map(str,[ranks[method][name] for method in methods]))))"
   ]
  },
  {
   "cell_type": "code",
   "execution_count": null,
   "metadata": {
    "collapsed": true
   },
   "outputs": [],
   "source": []
  }
 ],
 "metadata": {
  "anaconda-cloud": {},
  "kernelspec": {
   "display_name": "Python [default]",
   "language": "python",
   "name": "python3"
  },
  "language_info": {
   "codemirror_mode": {
    "name": "ipython",
    "version": 3
   },
   "file_extension": ".py",
   "mimetype": "text/x-python",
   "name": "python",
   "nbconvert_exporter": "python",
   "pygments_lexer": "ipython3",
   "version": "3.5.2"
  }
 },
 "nbformat": 4,
 "nbformat_minor": 1
}
